{
 "cells": [
  {
   "cell_type": "code",
   "execution_count": 4,
   "id": "22c57ec8-8866-48c5-ace2-0cb37ce7d040",
   "metadata": {},
   "outputs": [
    {
     "name": "stdout",
     "output_type": "stream",
     "text": [
      "Collecting msprime\n",
      "  Downloading msprime-1.0.2-cp37-cp37m-manylinux_2_12_x86_64.manylinux2010_x86_64.whl (5.7 MB)\n",
      "\u001b[K     |████████████████████████████████| 5.7 MB 2.0 MB/s eta 0:00:01\n",
      "\u001b[?25hCollecting numpy\n",
      "  Downloading numpy-1.21.2-cp37-cp37m-manylinux_2_12_x86_64.manylinux2010_x86_64.whl (15.7 MB)\n",
      "\u001b[K     |████████████████████████████████| 15.7 MB 41.8 MB/s eta 0:00:01\n",
      "\u001b[?25hCollecting demes<0.2\n",
      "  Downloading demes-0.1.2-py3-none-any.whl (35 kB)\n",
      "Collecting tskit>=0.3.5\n",
      "  Downloading tskit-0.3.7-cp37-cp37m-manylinux_2_5_x86_64.manylinux1_x86_64.manylinux_2_12_x86_64.manylinux2010_x86_64.whl (917 kB)\n",
      "\u001b[K     |████████████████████████████████| 917 kB 30.2 MB/s eta 0:00:01\n",
      "\u001b[?25hCollecting newick>=1.3.0\n",
      "  Downloading newick-1.3.0-py2.py3-none-any.whl (11 kB)\n",
      "Requirement already satisfied: attrs>=20.3.0 in /srv/conda/envs/notebook/lib/python3.7/site-packages (from demes<0.2->msprime) (21.2.0)\n",
      "Requirement already satisfied: ruamel.yaml>=0.15.78 in /srv/conda/envs/notebook/lib/python3.7/site-packages (from demes<0.2->msprime) (0.17.16)\n",
      "Requirement already satisfied: ruamel.yaml.clib>=0.1.2 in /srv/conda/envs/notebook/lib/python3.7/site-packages (from ruamel.yaml>=0.15.78->demes<0.2->msprime) (0.2.2)\n",
      "Requirement already satisfied: jsonschema>=3.0.0 in /srv/conda/envs/notebook/lib/python3.7/site-packages (from tskit>=0.3.5->msprime) (3.2.0)\n",
      "Collecting svgwrite>=1.1.10\n",
      "  Downloading svgwrite-1.4.1-py3-none-any.whl (66 kB)\n",
      "\u001b[K     |████████████████████████████████| 66 kB 14.2 MB/s eta 0:00:01\n",
      "\u001b[?25hRequirement already satisfied: six>=1.11.0 in /srv/conda/envs/notebook/lib/python3.7/site-packages (from jsonschema>=3.0.0->tskit>=0.3.5->msprime) (1.16.0)\n",
      "Requirement already satisfied: setuptools in /srv/conda/envs/notebook/lib/python3.7/site-packages (from jsonschema>=3.0.0->tskit>=0.3.5->msprime) (58.0.4)\n",
      "Requirement already satisfied: pyrsistent>=0.14.0 in /srv/conda/envs/notebook/lib/python3.7/site-packages (from jsonschema>=3.0.0->tskit>=0.3.5->msprime) (0.17.3)\n",
      "Requirement already satisfied: importlib-metadata in /srv/conda/envs/notebook/lib/python3.7/site-packages (from jsonschema>=3.0.0->tskit>=0.3.5->msprime) (4.8.1)\n",
      "Requirement already satisfied: zipp>=0.5 in /srv/conda/envs/notebook/lib/python3.7/site-packages (from importlib-metadata->jsonschema>=3.0.0->tskit>=0.3.5->msprime) (3.5.0)\n",
      "Requirement already satisfied: typing-extensions>=3.6.4 in /srv/conda/envs/notebook/lib/python3.7/site-packages (from importlib-metadata->jsonschema>=3.0.0->tskit>=0.3.5->msprime) (3.10.0.0)\n",
      "Installing collected packages: svgwrite, numpy, tskit, newick, demes, msprime\n",
      "Successfully installed demes-0.1.2 msprime-1.0.2 newick-1.3.0 numpy-1.21.2 svgwrite-1.4.1 tskit-0.3.7\n",
      "Note: you may need to restart the kernel to use updated packages.\n"
     ]
    }
   ],
   "source": [
    "pip install msprime"
   ]
  },
  {
   "cell_type": "code",
   "execution_count": 11,
   "id": "e3bd71fa-1faf-464b-8612-3624caf4ee27",
   "metadata": {},
   "outputs": [
    {
     "data": {
      "image/svg+xml": [
       "<svg baseProfile=\"full\" height=\"200\" version=\"1.1\" width=\"800\" xmlns=\"http://www.w3.org/2000/svg\" xmlns:ev=\"http://www.w3.org/2001/xml-events\" xmlns:xlink=\"http://www.w3.org/1999/xlink\"><defs><style type=\"text/css\"><![CDATA[.background path {fill: #808080; fill-opacity: 0}.background path:nth-child(odd) {fill-opacity: .1}.axes {font-size: 14px}.x-axis .tick .lab {font-weight: bold; dominant-baseline: hanging}.axes, .tree {font-size: 14px; text-anchor: middle}.axes line, .edge {stroke: black; fill: none}.y-axis .grid {stroke: #FAFAFA}.node > .sym {fill: black; stroke: none}.site > .sym {stroke: black}.mut text {fill: red; font-style: italic}.mut.extra text {fill: hotpink}.mut line {fill: none; stroke: none}.mut .sym {fill: none; stroke: red}.mut.extra .sym {stroke: hotpink}.node .mut .sym {stroke-width: 1.5px}.tree text, .tree-sequence text {dominant-baseline: central}.plotbox .lab.lft {text-anchor: end}.plotbox .lab.rgt {text-anchor: start}]]></style></defs><g class=\"tree-sequence\"><g class=\"background\"><path d=\"M20,0 l190,0 l0,138.2 l-168.568,25 l0,5 l-21.432,0 l0,-5 l0,-25 l0,-138.2z\"/><path d=\"M210,0 l190,0 l0,138.2 l-261.136,25 l0,5 l-97.432,0 l0,-5 l168.568,-25 l0,-138.2z\"/><path d=\"M400,0 l190,0 l0,138.2 l38.152,25 l0,5 l-489.288,0 l0,-5 l261.136,-25 l0,-138.2z\"/><path d=\"M590,0 l190,0 l0,138.2 l0,25 l0,5 l-151.848,0 l0,-5 l-38.152,-25 l0,-138.2z\"/></g><g class=\"axes\"><g class=\"x-axis\"><g transform=\"translate(400,200)\"><text class=\"lab\" text-anchor=\"middle\" transform=\"translate(0 -11)\">Genome position</text></g><line x1=\"20\" x2=\"780\" y1=\"163.2\" y2=\"163.2\"/><g class=\"ticks\"><g class=\"tick\" transform=\"translate(20 163.2)\"><line x1=\"0\" x2=\"0\" y1=\"0\" y2=\"5\"/><g transform=\"translate(0,6)\"><text class=\"lab\">0</text></g></g><g class=\"tick\" transform=\"translate(41.432 163.2)\"><line x1=\"0\" x2=\"0\" y1=\"0\" y2=\"5\"/><g transform=\"translate(0,6)\"><text class=\"lab\">141</text></g></g><g class=\"tick\" transform=\"translate(138.864 163.2)\"><line x1=\"0\" x2=\"0\" y1=\"0\" y2=\"5\"/><g transform=\"translate(0,6)\"><text class=\"lab\">782</text></g></g><g class=\"tick\" transform=\"translate(628.152 163.2)\"><line x1=\"0\" x2=\"0\" y1=\"0\" y2=\"5\"/><g transform=\"translate(0,6)\"><text class=\"lab\">4001</text></g></g><g class=\"tick\" transform=\"translate(780 163.2)\"><line x1=\"0\" x2=\"0\" y1=\"0\" y2=\"5\"/><g transform=\"translate(0,6)\"><text class=\"lab\">5000</text></g></g></g></g></g><g class=\"plotbox trees\"><g class=\"tree t0\" transform=\"translate(20 0)\"><g class=\"plotbox\"><g class=\"c2 node n13 p0 root\" transform=\"translate(124.688 26.8)\"><g class=\"a13 i1 leaf node n3 p0 sample\" transform=\"translate(32.8125 94.6)\"><path class=\"edge\" d=\"M 0 0 V -94.6 H -32.8125\"/><rect class=\"sym\" height=\"6\" width=\"6\" x=\"-3\" y=\"-3\"/><text class=\"lab\" transform=\"translate(0 11)\">3</text></g><g class=\"a13 c2 node n10 p0\" transform=\"translate(-32.8125 79.037)\"><g class=\"a10 c2 node n8 p0\" transform=\"translate(28.125 12.0777)\"><g class=\"a8 i0 leaf node n1 p0 sample\" transform=\"translate(-12.5 3.48524)\"><path class=\"edge\" d=\"M 0 0 V -3.48524 H 12.5\"/><rect class=\"sym\" height=\"6\" width=\"6\" x=\"-3\" y=\"-3\"/><text class=\"lab\" transform=\"translate(0 11)\">1</text></g><g class=\"a8 i2 leaf node n5 p0 sample\" transform=\"translate(12.5 3.48524)\"><path class=\"edge\" d=\"M 0 0 V -3.48524 H -12.5\"/><rect class=\"sym\" height=\"6\" width=\"6\" x=\"-3\" y=\"-3\"/><text class=\"lab\" transform=\"translate(0 11)\">5</text></g><path class=\"edge\" d=\"M 0 0 V -12.0777 H -28.125\"/><circle class=\"sym\" cx=\"0\" cy=\"0\" r=\"3\"/><text class=\"lab rgt\" transform=\"translate(3 -7.0)\">8</text></g><g class=\"a10 c2 node n9 p0\" transform=\"translate(-28.125 11.4842)\"><g class=\"a9 i2 leaf node n4 p0 sample\" transform=\"translate(18.75 4.07879)\"><path class=\"edge\" d=\"M 0 0 V -4.07879 H -18.75\"/><rect class=\"sym\" height=\"6\" width=\"6\" x=\"-3\" y=\"-3\"/><text class=\"lab\" transform=\"translate(0 11)\">4</text></g><g class=\"a9 c2 node n6 p0\" transform=\"translate(-18.75 3.0756)\"><g class=\"a6 i0 leaf node n0 p0 sample\" transform=\"translate(-12.5 1.00319)\"><path class=\"edge\" d=\"M 0 0 V -1.00319 H 12.5\"/><rect class=\"sym\" height=\"6\" width=\"6\" x=\"-3\" y=\"-3\"/><text class=\"lab\" transform=\"translate(0 11)\">0</text></g><g class=\"a6 i1 leaf node n2 p0 sample\" transform=\"translate(12.5 1.00319)\"><path class=\"edge\" d=\"M 0 0 V -1.00319 H -12.5\"/><rect class=\"sym\" height=\"6\" width=\"6\" x=\"-3\" y=\"-3\"/><text class=\"lab\" transform=\"translate(0 11)\">2</text></g><path class=\"edge\" d=\"M 0 0 V -3.0756 H 18.75\"/><circle class=\"sym\" cx=\"0\" cy=\"0\" r=\"3\"/><text class=\"lab lft\" transform=\"translate(-3 -7.0)\">6</text></g><path class=\"edge\" d=\"M 0 0 V -11.4842 H 28.125\"/><circle class=\"sym\" cx=\"0\" cy=\"0\" r=\"3\"/><text class=\"lab lft\" transform=\"translate(-3 -7.0)\">9</text></g><path class=\"edge\" d=\"M 0 0 V -79.037 H 32.8125\"/><circle class=\"sym\" cx=\"0\" cy=\"0\" r=\"3\"/><text class=\"lab lft\" transform=\"translate(-3 -7.0)\">10</text></g><circle class=\"sym\" cx=\"0\" cy=\"0\" r=\"3\"/><text class=\"lab\" transform=\"translate(0 -11)\">13</text></g></g></g><g class=\"tree t1\" transform=\"translate(210 0)\"><g class=\"plotbox\"><g class=\"c2 node n12 p0 root\" transform=\"translate(124.688 50.9994)\"><g class=\"a12 i1 leaf node n3 p0 sample\" transform=\"translate(32.8125 70.4006)\"><path class=\"edge\" d=\"M 0 0 V -70.4006 H -32.8125\"/><rect class=\"sym\" height=\"6\" width=\"6\" x=\"-3\" y=\"-3\"/><text class=\"lab\" transform=\"translate(0 11)\">3</text></g><g class=\"a12 c2 node n10 p0\" transform=\"translate(-32.8125 54.8376)\"><g class=\"a10 c2 node n8 p0\" transform=\"translate(28.125 12.0777)\"><g class=\"a8 i0 leaf node n1 p0 sample\" transform=\"translate(-12.5 3.48524)\"><path class=\"edge\" d=\"M 0 0 V -3.48524 H 12.5\"/><rect class=\"sym\" height=\"6\" width=\"6\" x=\"-3\" y=\"-3\"/><text class=\"lab\" transform=\"translate(0 11)\">1</text></g><g class=\"a8 i2 leaf node n5 p0 sample\" transform=\"translate(12.5 3.48524)\"><path class=\"edge\" d=\"M 0 0 V -3.48524 H -12.5\"/><rect class=\"sym\" height=\"6\" width=\"6\" x=\"-3\" y=\"-3\"/><text class=\"lab\" transform=\"translate(0 11)\">5</text></g><path class=\"edge\" d=\"M 0 0 V -12.0777 H -28.125\"/><circle class=\"sym\" cx=\"0\" cy=\"0\" r=\"3\"/><text class=\"lab rgt\" transform=\"translate(3 -7.0)\">8</text></g><g class=\"a10 c2 node n9 p0\" transform=\"translate(-28.125 11.4842)\"><g class=\"a9 i2 leaf node n4 p0 sample\" transform=\"translate(18.75 4.07879)\"><path class=\"edge\" d=\"M 0 0 V -4.07879 H -18.75\"/><rect class=\"sym\" height=\"6\" width=\"6\" x=\"-3\" y=\"-3\"/><text class=\"lab\" transform=\"translate(0 11)\">4</text></g><g class=\"a9 c2 node n6 p0\" transform=\"translate(-18.75 3.0756)\"><g class=\"a6 i0 leaf node n0 p0 sample\" transform=\"translate(-12.5 1.00319)\"><path class=\"edge\" d=\"M 0 0 V -1.00319 H 12.5\"/><rect class=\"sym\" height=\"6\" width=\"6\" x=\"-3\" y=\"-3\"/><text class=\"lab\" transform=\"translate(0 11)\">0</text></g><g class=\"a6 i1 leaf node n2 p0 sample\" transform=\"translate(12.5 1.00319)\"><path class=\"edge\" d=\"M 0 0 V -1.00319 H -12.5\"/><rect class=\"sym\" height=\"6\" width=\"6\" x=\"-3\" y=\"-3\"/><text class=\"lab\" transform=\"translate(0 11)\">2</text></g><path class=\"edge\" d=\"M 0 0 V -3.0756 H 18.75\"/><circle class=\"sym\" cx=\"0\" cy=\"0\" r=\"3\"/><text class=\"lab lft\" transform=\"translate(-3 -7.0)\">6</text></g><path class=\"edge\" d=\"M 0 0 V -11.4842 H 28.125\"/><circle class=\"sym\" cx=\"0\" cy=\"0\" r=\"3\"/><text class=\"lab lft\" transform=\"translate(-3 -7.0)\">9</text></g><path class=\"edge\" d=\"M 0 0 V -54.8376 H 32.8125\"/><circle class=\"sym\" cx=\"0\" cy=\"0\" r=\"3\"/><text class=\"lab lft\" transform=\"translate(-3 -7.0)\">10</text></g><circle class=\"sym\" cx=\"0\" cy=\"0\" r=\"3\"/><text class=\"lab\" transform=\"translate(0 -11)\">12</text></g></g></g><g class=\"tree t2\" transform=\"translate(400 0)\"><g class=\"plotbox\"><g class=\"c2 node n11 p0 root\" transform=\"translate(124.688 90.3248)\"><g class=\"a11 i1 leaf node n3 p0 sample\" transform=\"translate(32.8125 31.0752)\"><path class=\"edge\" d=\"M 0 0 V -31.0752 H -32.8125\"/><rect class=\"sym\" height=\"6\" width=\"6\" x=\"-3\" y=\"-3\"/><text class=\"lab\" transform=\"translate(0 11)\">3</text></g><g class=\"a11 c2 node n10 p0\" transform=\"translate(-32.8125 15.5122)\"><g class=\"a10 c2 node n8 p0\" transform=\"translate(28.125 12.0777)\"><g class=\"a8 i0 leaf node n1 p0 sample\" transform=\"translate(-12.5 3.48524)\"><path class=\"edge\" d=\"M 0 0 V -3.48524 H 12.5\"/><rect class=\"sym\" height=\"6\" width=\"6\" x=\"-3\" y=\"-3\"/><text class=\"lab\" transform=\"translate(0 11)\">1</text></g><g class=\"a8 i2 leaf node n5 p0 sample\" transform=\"translate(12.5 3.48524)\"><path class=\"edge\" d=\"M 0 0 V -3.48524 H -12.5\"/><rect class=\"sym\" height=\"6\" width=\"6\" x=\"-3\" y=\"-3\"/><text class=\"lab\" transform=\"translate(0 11)\">5</text></g><path class=\"edge\" d=\"M 0 0 V -12.0777 H -28.125\"/><circle class=\"sym\" cx=\"0\" cy=\"0\" r=\"3\"/><text class=\"lab rgt\" transform=\"translate(3 -7.0)\">8</text></g><g class=\"a10 c2 node n9 p0\" transform=\"translate(-28.125 11.4842)\"><g class=\"a9 i2 leaf node n4 p0 sample\" transform=\"translate(18.75 4.07879)\"><path class=\"edge\" d=\"M 0 0 V -4.07879 H -18.75\"/><rect class=\"sym\" height=\"6\" width=\"6\" x=\"-3\" y=\"-3\"/><text class=\"lab\" transform=\"translate(0 11)\">4</text></g><g class=\"a9 c2 node n6 p0\" transform=\"translate(-18.75 3.0756)\"><g class=\"a6 i0 leaf node n0 p0 sample\" transform=\"translate(-12.5 1.00319)\"><path class=\"edge\" d=\"M 0 0 V -1.00319 H 12.5\"/><rect class=\"sym\" height=\"6\" width=\"6\" x=\"-3\" y=\"-3\"/><text class=\"lab\" transform=\"translate(0 11)\">0</text></g><g class=\"a6 i1 leaf node n2 p0 sample\" transform=\"translate(12.5 1.00319)\"><path class=\"edge\" d=\"M 0 0 V -1.00319 H -12.5\"/><rect class=\"sym\" height=\"6\" width=\"6\" x=\"-3\" y=\"-3\"/><text class=\"lab\" transform=\"translate(0 11)\">2</text></g><path class=\"edge\" d=\"M 0 0 V -3.0756 H 18.75\"/><circle class=\"sym\" cx=\"0\" cy=\"0\" r=\"3\"/><text class=\"lab lft\" transform=\"translate(-3 -7.0)\">6</text></g><path class=\"edge\" d=\"M 0 0 V -11.4842 H 28.125\"/><circle class=\"sym\" cx=\"0\" cy=\"0\" r=\"3\"/><text class=\"lab lft\" transform=\"translate(-3 -7.0)\">9</text></g><path class=\"edge\" d=\"M 0 0 V -15.5122 H 32.8125\"/><circle class=\"sym\" cx=\"0\" cy=\"0\" r=\"3\"/><text class=\"lab lft\" transform=\"translate(-3 -7.0)\">10</text></g><circle class=\"sym\" cx=\"0\" cy=\"0\" r=\"3\"/><text class=\"lab\" transform=\"translate(0 -11)\">11</text></g></g></g><g class=\"tree t3\" transform=\"translate(590 0)\"><g class=\"plotbox\"><g class=\"c2 node n11 p0 root\" transform=\"translate(124.688 90.3248)\"><g class=\"a11 i1 leaf node n3 p0 sample\" transform=\"translate(32.8125 31.0752)\"><path class=\"edge\" d=\"M 0 0 V -31.0752 H -32.8125\"/><rect class=\"sym\" height=\"6\" width=\"6\" x=\"-3\" y=\"-3\"/><text class=\"lab\" transform=\"translate(0 11)\">3</text></g><g class=\"a11 c2 node n10 p0\" transform=\"translate(-32.8125 15.5122)\"><g class=\"a10 c2 node n8 p0\" transform=\"translate(-28.125 12.0777)\"><g class=\"a8 i2 leaf node n5 p0 sample\" transform=\"translate(18.75 3.48524)\"><path class=\"edge\" d=\"M 0 0 V -3.48524 H -18.75\"/><rect class=\"sym\" height=\"6\" width=\"6\" x=\"-3\" y=\"-3\"/><text class=\"lab\" transform=\"translate(0 11)\">5</text></g><g class=\"a8 c2 node n7 p0\" transform=\"translate(-18.75 1.62753)\"><g class=\"a7 i0 leaf node n0 p0 sample\" transform=\"translate(-12.5 1.85771)\"><path class=\"edge\" d=\"M 0 0 V -1.85771 H 12.5\"/><rect class=\"sym\" height=\"6\" width=\"6\" x=\"-3\" y=\"-3\"/><text class=\"lab\" transform=\"translate(0 11)\">0</text></g><g class=\"a7 i0 leaf node n1 p0 sample\" transform=\"translate(12.5 1.85771)\"><path class=\"edge\" d=\"M 0 0 V -1.85771 H -12.5\"/><rect class=\"sym\" height=\"6\" width=\"6\" x=\"-3\" y=\"-3\"/><text class=\"lab\" transform=\"translate(0 11)\">1</text></g><path class=\"edge\" d=\"M 0 0 V -1.62753 H 18.75\"/><circle class=\"sym\" cx=\"0\" cy=\"0\" r=\"3\"/><text class=\"lab lft\" transform=\"translate(-3 -7.0)\">7</text></g><path class=\"edge\" d=\"M 0 0 V -12.0777 H 28.125\"/><circle class=\"sym\" cx=\"0\" cy=\"0\" r=\"3\"/><text class=\"lab lft\" transform=\"translate(-3 -7.0)\">8</text></g><g class=\"a10 c2 node n9 p0\" transform=\"translate(28.125 11.4842)\"><g class=\"a9 i2 leaf node n4 p0 sample\" transform=\"translate(12.5 4.07879)\"><path class=\"edge\" d=\"M 0 0 V -4.07879 H -12.5\"/><rect class=\"sym\" height=\"6\" width=\"6\" x=\"-3\" y=\"-3\"/><text class=\"lab\" transform=\"translate(0 11)\">4</text></g><g class=\"a9 i1 leaf node n2 p0 sample\" transform=\"translate(-12.5 4.07879)\"><path class=\"edge\" d=\"M 0 0 V -4.07879 H 12.5\"/><rect class=\"sym\" height=\"6\" width=\"6\" x=\"-3\" y=\"-3\"/><text class=\"lab\" transform=\"translate(0 11)\">2</text></g><path class=\"edge\" d=\"M 0 0 V -11.4842 H -28.125\"/><circle class=\"sym\" cx=\"0\" cy=\"0\" r=\"3\"/><text class=\"lab rgt\" transform=\"translate(3 -7.0)\">9</text></g><path class=\"edge\" d=\"M 0 0 V -15.5122 H 32.8125\"/><circle class=\"sym\" cx=\"0\" cy=\"0\" r=\"3\"/><text class=\"lab lft\" transform=\"translate(-3 -7.0)\">10</text></g><circle class=\"sym\" cx=\"0\" cy=\"0\" r=\"3\"/><text class=\"lab\" transform=\"translate(0 -11)\">11</text></g></g></g></g></g></svg>"
      ],
      "text/plain": [
       "<IPython.core.display.SVG object>"
      ]
     },
     "execution_count": 11,
     "metadata": {},
     "output_type": "execute_result"
    }
   ],
   "source": [
    "import msprime\n",
    "from IPython.display import SVG, display\n",
    "\n",
    "ts=msprime.sim_ancestry(\n",
    "    samples=3,\n",
    "    recombination_rate=1e-8,\n",
    "    sequence_length=5_000,\n",
    "    population_size=10_000,\n",
    "    random_seed=123456)\n",
    "\n",
    "SVG(ts.draw_svg())\n",
    "\n",
    "    "
   ]
  },
  {
   "cell_type": "code",
   "execution_count": null,
   "id": "200595c4-8c81-4ff7-a691-9afb688206a0",
   "metadata": {},
   "outputs": [],
   "source": []
  },
  {
   "cell_type": "code",
   "execution_count": null,
   "id": "70949c3b-d42f-4c3f-9a42-710429de2237",
   "metadata": {},
   "outputs": [],
   "source": []
  },
  {
   "cell_type": "code",
   "execution_count": null,
   "id": "6dc2940b-8ef4-4f4e-8f86-f8e616c08719",
   "metadata": {},
   "outputs": [],
   "source": []
  },
  {
   "cell_type": "code",
   "execution_count": null,
   "id": "027c67c8-c7cc-4cb6-bd72-974d5af162e6",
   "metadata": {},
   "outputs": [],
   "source": []
  },
  {
   "cell_type": "code",
   "execution_count": null,
   "id": "e8f95984-716a-4b2e-99b9-95dacf6aedfa",
   "metadata": {},
   "outputs": [],
   "source": []
  },
  {
   "cell_type": "code",
   "execution_count": null,
   "id": "6f06296a-9300-41c6-a454-4f556f0f404a",
   "metadata": {},
   "outputs": [],
   "source": []
  },
  {
   "cell_type": "code",
   "execution_count": null,
   "id": "32ee4438-e120-4445-9c96-7d091cc54d0c",
   "metadata": {},
   "outputs": [],
   "source": []
  }
 ],
 "metadata": {
  "kernelspec": {
   "display_name": "Python 3 (ipykernel)",
   "language": "python",
   "name": "python3"
  },
  "language_info": {
   "codemirror_mode": {
    "name": "ipython",
    "version": 3
   },
   "file_extension": ".py",
   "mimetype": "text/x-python",
   "name": "python",
   "nbconvert_exporter": "python",
   "pygments_lexer": "ipython3",
   "version": "3.7.10"
  }
 },
 "nbformat": 4,
 "nbformat_minor": 5
}
